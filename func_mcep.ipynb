{
 "cells": [
  {
   "cell_type": "code",
   "execution_count": 6,
   "metadata": {},
   "outputs": [],
   "source": [
    "import soundfile\n",
    "import numpy\n",
    "import matplotlib.pyplot as pyplot\n",
    "import IPython.display as diplay\n",
    "import pyworld\n",
    "import seaborn\n",
    "import math\n",
    "import sys"
   ]
  },
  {
   "cell_type": "code",
   "execution_count": 2,
   "metadata": {},
   "outputs": [
    {
     "data": {
      "text/plain": [
       "CompletedProcess(args=['jupyter', 'nbconvert', '--to', 'python', 'func_mcep.ipynb'], returncode=0)"
      ]
     },
     "execution_count": 2,
     "metadata": {},
     "output_type": "execute_result"
    }
   ],
   "source": [
    "import subprocess\n",
    "subprocess.run(['jupyter','nbconvert','--to','python','func_mcep.ipynb'])"
   ]
  },
  {
   "cell_type": "code",
   "execution_count": 8,
   "metadata": {},
   "outputs": [],
   "source": [
    "def modify(data1,data,ran):\n",
    "    newdata = numpy.array([])\n",
    "    newdata = numpy.full([len(data),],data)\n",
    "    midran = int(ran/2)\n",
    "    for k in range(midran):\n",
    "        newdata[len(data1)-midran+k] = fi(newdata[len(data1)-midran],newdata[len(data1)+midran],ran,k)\n",
    "        newdata[len(data1)+k] = fi(newdata[len(data1)-midran],newdata[len(data1)+midran],ran,midran+k)\n",
    "    return newdata"
   ]
  },
  {
   "cell_type": "code",
   "execution_count": 9,
   "metadata": {},
   "outputs": [],
   "source": [
    "def fi(ledata,ridata,size,x):\n",
    "    y = ((ridata-ledata)/size*x) + ledata\n",
    "    return y"
   ]
  },
  {
   "cell_type": "code",
   "execution_count": 15,
   "metadata": {},
   "outputs": [],
   "source": [
    "def hokan1(f01,f0,mcep1,mcep,ap1,ap,ran):\n",
    "    newf0 = modify(f01,f0,ran)\n",
    "    newmcep = numpy.full([mcep.shape[0],mcep.shape[1]],mcep)\n",
    "    newap = numpy.full([ap.shape[0],ap.shape[1]],ap)\n",
    "    for k in range(mcep.shape[1]):\n",
    "        newmcep[:,k] = modify(mcep1[:,k],mcep[:,k],ran)\n",
    "    for k in range(ap.shape[1]):\n",
    "        newap[:,k] = modify(ap1[:,k],ap[:,k],ran)\n",
    "    return newf0,newmcep,newap"
   ]
  },
  {
   "cell_type": "code",
   "execution_count": 2,
   "metadata": {},
   "outputs": [],
   "source": [
    "def connect(f01,f02,mcep1,mcep2,ap1,ap2): #補間せず接続\n",
    "    f0 = numpy.hstack((f01,f02))\n",
    "    mcep = numpy.vstack((mcep1,mcep2))\n",
    "    ap = numpy.vstack((ap1,ap2))\n",
    "    return f0,mcep,ap"
   ]
  },
  {
   "cell_type": "code",
   "execution_count": 3,
   "metadata": {},
   "outputs": [],
   "source": [
    "def makePitch(f0, pitch):#constant F0\n",
    "    targetF0 = 440 * pow(2, (pitch - 69) / 12)\n",
    "    newF0 = np.vectorize(lambda x: 0 if x == 0 else targetF0)(f0)\n",
    "    return newF0.astype(np.double)"
   ]
  },
  {
   "cell_type": "code",
   "execution_count": 4,
   "metadata": {},
   "outputs": [],
   "source": [
    "def linear(data1,data2,point):#関数leng内で使用\n",
    "    data = (data2 - data1) * point + data1\n",
    "    if(point < 0 or point > 1):\n",
    "        sys.stderr.write(\"please input 0 < point < 1\\n\")\n",
    "    return data"
   ]
  },
  {
   "cell_type": "code",
   "execution_count": 1,
   "metadata": {},
   "outputs": [],
   "source": [
    "def leng(data,f0,mcep,ap,time,fs):\n",
    "    oritime = len(data)/fs\n",
    "    x = oritime / time\n",
    "    \n",
    "    newf0 = numpy.zeros(math.floor((len(f0) - 1.0) / x))\n",
    "    newmcep = numpy.zeros((math.floor((mcep.shape[0] - 1.0) / x), mcep.shape[1]))\n",
    "    newap = numpy.zeros((math.floor((ap.shape[0] - 1.0) / x), ap.shape[1]))\n",
    "    \n",
    "    ind = 0\n",
    "    \n",
    "    for k in range(len(newf0)):\n",
    "        f,d = math.modf(k * x)\n",
    "        \n",
    "        for l in range(mcep.shape[1]):\n",
    "            newmcep[k,l] = linear(mcep[math.floor(ind),l], mcep[math.ceil(ind),l], f)\n",
    "        for l in range(ap.shape[1]):\n",
    "            newap[k,l] = linear(ap[math.floor(ind),l], ap[math.ceil(ind),l], f)\n",
    "            \n",
    "        newf0[k] = linear(f0[math.floor(ind)], f0[math.ceil(ind)], f)\n",
    "        \n",
    "        ind = ind + x\n",
    "        \n",
    "    return newf0,newmcep,newap"
   ]
  },
  {
   "cell_type": "code",
   "execution_count": 7,
   "metadata": {},
   "outputs": [],
   "source": [
    "def hokan2(f01,f02,mcep1,mcep2,ap1,ap2,frame):\n",
    "    ref01 = numpy.zeros(len(f01)-frame)\n",
    "    remcep1 = numpy.zeros((mcep1.shape[0]-frame,mcep1.shape[1]))\n",
    "    reap1 = numpy.zeros((ap1.shape[0]-frame,ap1.shape[1]))\n",
    "    \n",
    "    for k in range(len(ref01)):\n",
    "        ref01[k] = f01[k]\n",
    "        remcep1[k,:] = mcep1[k,:]\n",
    "        reape1[k,:] = ap1[k,:]\n",
    "        \n",
    "    f0_hokan = numpy.zeros(frame)\n",
    "    mcep_hokan = numpy.zeros((frame,mcep1,shape[1]))\n",
    "    ap_hokan = numpy.zeros((frame,ap1,shape[1]))\n",
    "    \n",
    "    for k in range(frame):\n",
    "        f0_hokan[k] = fi(ref01[len(ref01)-1],f02[int(len(f02)/2)],frame,k)\n",
    "        for l in range(mcep1.shape[1]):\n",
    "            mcep_hokan[k,l] = fi(remcep1[remcep1.shape[0]-1,l],mcep2[int(mcep2.shape[0]/2),l],frame,k)\n",
    "        for l in range(ap1.shape[1]):\n",
    "            ap_hokan[k,l] = fi(reap1[reap1.shape[0]-1,l],ap2[int(ap2.shape[0]/2),l],frame,k)\n",
    "            \n",
    "    newf0 = numpy.hstack((ref01,f0_hokan))\n",
    "    newf0 = numpy.hstack((newf0,f02))\n",
    "    newmcep = numpy.vstack((remcep1,mcep_hokan))\n",
    "    newmcep = numpy.vstack((newmcep,mcep2))\n",
    "    newap = numpy.vstack((reap1,ap_hokan))\n",
    "    newap = numpy.vstack((newap,ap2))\n",
    "    \n",
    "    return newf0,newmcep,newap"
   ]
  },
  {
   "cell_type": "code",
   "execution_count": null,
   "metadata": {},
   "outputs": [],
   "source": [
    "def fall(f01,f02,fallframe,hokanframe,hnum):\n",
    "    prep = numpy.zeros(fallframe)\n",
    "    under = numpy.zeros(fallframe)\n",
    "    inter = 180 / (fallframe - 1)\n",
    "    rad = 0\n",
    "    for k in range(len(prep)):\n",
    "        prep[k] = 8 * math.sin(math.radians(rad))\n",
    "        under[k] = -1.5 * prep[k]\n",
    "        rad += inter\n",
    "    \n",
    "    newf01 = f01.copy()\n",
    "    newf02 = f02.copy()\n",
    "    \n",
    "    if(hnum == 1):\n",
    "        for k in range(fallframe):\n",
    "            newf01[len(newf01)-int(hokanframe/2)-k] += prep[k]\n",
    "            newf02[int(hokanframe/2)+k] += under[k]\n",
    "    elif(hnum == 2):\n",
    "        for k in range(fallframe):\n",
    "            newf01[len(newf01)-hokanframe-k] += prep[k]\n",
    "            newf02[k] += under[k]\n",
    "    elif(hnum == 0):\n",
    "        for k in range(fallframe):\n",
    "            newf01[len(newf01)-k] += prep[k]\n",
    "            newf02[k] += under[k]\n",
    "    \n",
    "    return newf01,newf02"
   ]
  },
  {
   "cell_type": "code",
   "execution_count": null,
   "metadata": {},
   "outputs": [],
   "source": [
    "def shakuri(f01,f02,fallframe,hokanframe,hnum):\n",
    "    prep = numpy.zeros(fallframe)\n",
    "    over = numpy.zeros(fallframe)\n",
    "    inter = 180 / (fallframe - 1)\n",
    "    rad = 0\n",
    "    for k in range(len(prep)):\n",
    "        prep[k] = -10 * math.sin(math.radians(rad))\n",
    "        over[k] = -0.8 * prep[k]\n",
    "        rad += inter\n",
    "        \n",
    "    newf01 = f01.copy()\n",
    "    newf02 = f02.copy()\n",
    "    \n",
    "    if(hnum == 1):\n",
    "        for k in range(fallframe):\n",
    "            newf01[len(newf01)-int(hokanframe/2)-k] += prep[k]\n",
    "            newf02[int(hokanframe/2)+k] += over[k]\n",
    "    elif(hnum == 2):\n",
    "        for k in range(fallframe):\n",
    "            newf01[len(newf01)-hokanframe-k] += prep[k]\n",
    "            newf02[k] += over[k]\n",
    "    elif(hnum == 0):\n",
    "        for k in range(fallframe):\n",
    "            newf01[len(newf01)-k-1] += prep[k]\n",
    "            newf02[k] += over[k]\n",
    "        \n",
    "    return newf01,newf02"
   ]
  }
 ],
 "metadata": {
  "kernelspec": {
   "display_name": "Python 3",
   "language": "python",
   "name": "python3"
  },
  "language_info": {
   "codemirror_mode": {
    "name": "ipython",
    "version": 3
   },
   "file_extension": ".py",
   "mimetype": "text/x-python",
   "name": "python",
   "nbconvert_exporter": "python",
   "pygments_lexer": "ipython3",
   "version": "3.7.0"
  }
 },
 "nbformat": 4,
 "nbformat_minor": 2
}
